{
 "cells": [
  {
   "cell_type": "code",
   "execution_count": 1,
   "metadata": {},
   "outputs": [],
   "source": [
    "import torch\n",
    "import torch.nn as nn\n",
    "import torch.nn.functional as F\n",
    "#from torch.autograd import Variable\n",
    "import torchtext.data as data\n",
    "#import torchtext.datasets as datasets\n",
    "import pickle"
   ]
  },
  {
   "cell_type": "code",
   "execution_count": 2,
   "metadata": {},
   "outputs": [],
   "source": [
    "class CNN_Text(nn.Module):\n",
    "    def __init__(self, embed_num, class_num):\n",
    "        super(CNN_Text, self).__init__()\n",
    "        V = embed_num\n",
    "        C = class_num\n",
    "        Co = 50  # args.kernel_num\n",
    "        Ks = [2, 3, 4]\n",
    "\n",
    "        self.embed = nn.Embedding(V, 100)\n",
    "        self.convs1 = nn.ModuleList([nn.Conv2d(1, Co, (K, 100)) for K in Ks])\n",
    "        self.dropout = nn.Dropout(0.2)\n",
    "        self.fc1 = nn.Linear(len(Ks) * Co, C)\n",
    "\n",
    "    def forward(self, x):\n",
    "        x = self.embed(x)  # (N, W, D)\n",
    "        x = x.unsqueeze(1)  # (N, Ci, W, D)\n",
    "        x = [F.relu(conv(x)).squeeze(3) for conv in self.convs1]  # [(N, Co, W), ...]*len(Ks)\n",
    "        x = [F.max_pool1d(i, i.size(2)).squeeze(2) for i in x]  # [(N, Co), ...]*len(Ks)\n",
    "        x = torch.cat(x, 1)\n",
    "        x = self.dropout(x)  # (N, len(Ks)*Co)\n",
    "        logit = self.fc1(x)  # (N, C)\n",
    "        return logit"
   ]
  },
  {
   "cell_type": "code",
   "execution_count": 3,
   "metadata": {},
   "outputs": [],
   "source": [
    "class mydataset(data.Dataset):\n",
    "    @staticmethod\n",
    "    def sort_key(ex):\n",
    "        return len(ex.text)\n",
    "\n",
    "    def __init__(self, text_field, label_field, path=None, examples=None, **kwargs):\n",
    "        fields = [('text', text_field), ('label', label_field)]\n",
    "        if examples is None:\n",
    "            path = self.dirname if path is None else path\n",
    "            examples = []\n",
    "            for i, line in enumerate(open(path, 'r', encoding='utf-8')):\n",
    "                if i == 0:\n",
    "                    continue\n",
    "                line = line.strip().split(',')\n",
    "                txt = line[5].split(' ')\n",
    "                # txt= [ d.split('/')[0] for d in line[1].split(' ') ]\n",
    "\n",
    "                examples += [data.Example.fromlist([txt, line[2]], fields)]\n",
    "        super(mydataset, self).__init__(examples, fields, **kwargs)"
   ]
  },
  {
   "cell_type": "code",
   "execution_count": 4,
   "metadata": {},
   "outputs": [
    {
     "name": "stdout",
     "output_type": "stream",
     "text": [
      "795\n"
     ]
    }
   ],
   "source": [
    "text_field = data.Field(batch_first = True, fix_length = 20 ) # fix_length: 한 문장의 max 토큰수 길이\n",
    "label_field = data.Field(sequential=False, batch_first = True, unk_token = None )\n",
    "train_data = mydataset(text_field,label_field,path='data_sentiment_train.csv')\n",
    "\n",
    "#train_data = mydataset(text_field,label_field,path='small_ratings_train_tok.txt')\n",
    "\n",
    "test_data = mydataset(text_field,label_field,path='data_sentiment_test.csv')\n",
    "\n",
    "text_field.build_vocab(train_data)\n",
    "label_field.build_vocab(train_data)\n",
    "\n",
    "train_iter, test_iter = data.Iterator.splits(\n",
    "                            (train_data, test_data),\n",
    "                            batch_sizes=(100, 1), repeat=False)#, device= 'cuda')\n",
    "print(len(text_field.vocab))"
   ]
  },
  {
   "cell_type": "code",
   "execution_count": 5,
   "metadata": {},
   "outputs": [
    {
     "name": "stdout",
     "output_type": "stream",
     "text": [
      "CNN_Text(\n",
      "  (embed): Embedding(795, 100)\n",
      "  (convs1): ModuleList(\n",
      "    (0): Conv2d(1, 50, kernel_size=(2, 100), stride=(1, 1))\n",
      "    (1): Conv2d(1, 50, kernel_size=(3, 100), stride=(1, 1))\n",
      "    (2): Conv2d(1, 50, kernel_size=(4, 100), stride=(1, 1))\n",
      "  )\n",
      "  (dropout): Dropout(p=0.2)\n",
      "  (fc1): Linear(in_features=150, out_features=2, bias=True)\n",
      ")\n"
     ]
    }
   ],
   "source": [
    "cnn = CNN_Text(len(text_field.vocab),2)\n",
    "optimizer = torch.optim.Adam(cnn.parameters())\n",
    "print(cnn.train())"
   ]
  },
  {
   "cell_type": "code",
   "execution_count": 6,
   "metadata": {},
   "outputs": [
    {
     "name": "stdout",
     "output_type": "stream",
     "text": [
      "0 epoch\n",
      "tensor(6.6297)\n",
      "1 epoch\n",
      "tensor(0.2629)\n",
      "2 epoch\n",
      "tensor(0.1054)\n",
      "3 epoch\n",
      "tensor(0.0573)\n",
      "4 epoch\n",
      "tensor(0.0374)\n",
      "5 epoch\n",
      "tensor(0.0249)\n",
      "6 epoch\n",
      "tensor(0.0180)\n",
      "7 epoch\n",
      "tensor(0.0144)\n",
      "8 epoch\n",
      "tensor(0.0108)\n",
      "9 epoch\n",
      "tensor(0.0086)\n",
      "CPU times: user 1min 55s, sys: 750 ms, total: 1min 56s\n",
      "Wall time: 16.9 s\n"
     ]
    },
    {
     "name": "stderr",
     "output_type": "stream",
     "text": [
      "/home/harny/Github/ai-tech-kepco/venv/lib/python3.7/site-packages/torch/serialization.py:256: UserWarning: Couldn't retrieve source code for container of type CNN_Text. It won't be checked for correctness upon loading.\n",
      "  \"type \" + obj.__name__ + \". It won't be checked \"\n"
     ]
    }
   ],
   "source": [
    "%%time\n",
    "for epoch in range(10):\n",
    "    z = 0\n",
    "    totalloss = 0\n",
    "    for batch in train_iter:\n",
    "        optimizer.zero_grad()\n",
    "\n",
    "        txt = batch.text\n",
    "        label = batch.label\n",
    "        # print (txt.size())\n",
    "        pred = cnn(txt)\n",
    "        # print(pred.size(), label.size())\n",
    "        # print(label)\n",
    "        loss = F.cross_entropy(pred, label)\n",
    "        totalloss += loss.data\n",
    "\n",
    "        loss.backward()\n",
    "        optimizer.step()\n",
    "        # print(data,label)\n",
    "    print(epoch, 'epoch')\n",
    "    print(totalloss)\n",
    "\n",
    "torch.save(cnn, 'model/cnn_model.pt')"
   ]
  },
  {
   "cell_type": "code",
   "execution_count": 7,
   "metadata": {},
   "outputs": [
    {
     "name": "stdout",
     "output_type": "stream",
     "text": [
      "correct :  140\n",
      "incorrect :  0\n",
      "\n",
      "CPU times: user 515 ms, sys: 11.9 ms, total: 527 ms\n",
      "Wall time: 135 ms\n"
     ]
    }
   ],
   "source": [
    "%%time\n",
    "cnn.eval()\n",
    "correct = 0\n",
    "incorrect = 0\n",
    "for batch in test_iter:\n",
    "    txt = batch.text\n",
    "    label = batch.label\n",
    "\n",
    "    pred = cnn(txt)\n",
    "    _, ans = torch.max(pred, dim=1)\n",
    "\n",
    "    if ans.data[0] == label.data[0]:\n",
    "        correct += 1\n",
    "    else:\n",
    "        incorrect += 1\n",
    "\n",
    "print('correct : ', correct)\n",
    "print('incorrect : ', incorrect)\n",
    "print()"
   ]
  },
  {
   "cell_type": "code",
   "execution_count": null,
   "metadata": {},
   "outputs": [],
   "source": []
  }
 ],
 "metadata": {
  "kernelspec": {
   "display_name": "Python 3",
   "language": "python",
   "name": "python3"
  },
  "language_info": {
   "codemirror_mode": {
    "name": "ipython",
    "version": 3
   },
   "file_extension": ".py",
   "mimetype": "text/x-python",
   "name": "python",
   "nbconvert_exporter": "python",
   "pygments_lexer": "ipython3",
   "version": "3.7.3"
  }
 },
 "nbformat": 4,
 "nbformat_minor": 2
}
