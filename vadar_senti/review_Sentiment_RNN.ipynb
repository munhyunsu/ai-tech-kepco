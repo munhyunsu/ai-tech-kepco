{
 "cells": [
  {
   "cell_type": "code",
   "execution_count": 1,
   "metadata": {},
   "outputs": [],
   "source": [
    "import torch\n",
    "import torch.nn as nn\n",
    "import torch.nn.functional as F\n",
    "from torch.autograd import Variable\n",
    "import torchtext.data as data"
   ]
  },
  {
   "cell_type": "code",
   "execution_count": 2,
   "metadata": {},
   "outputs": [],
   "source": [
    "class RNN_Text(nn.Module):\n",
    "    def __init__(self, embed_num, class_num):\n",
    "        super(RNN_Text, self).__init__()\n",
    "        V = embed_num\n",
    "        C = class_num\n",
    "        H = 256\n",
    "\n",
    "        self.embed = nn.Embedding(V, 100)\n",
    "        self.rnn = nn.LSTM(100, H, bidirectional=True)\n",
    "        self.out = nn.Linear(H * 2, C)\n",
    "\n",
    "    def forward(self, x):\n",
    "        x = self.embed(x)  # (N, W, D)\n",
    "        ##x = x.unsqueeze(1)  # (N, Ci, W, D)\n",
    "        x, (_, __) = self.rnn(x, (self.h, self.c))\n",
    "\n",
    "        logit = self.out(x[-1])\n",
    "        return logit\n",
    "\n",
    "    def inithidden(self, b):\n",
    "        self.h = Variable(torch.randn(2, b, 256))\n",
    "        self.c = Variable(torch.randn(2, b, 256))"
   ]
  },
  {
   "cell_type": "code",
   "execution_count": 3,
   "metadata": {},
   "outputs": [],
   "source": [
    "class mydataset(data.Dataset):\n",
    "    @staticmethod\n",
    "    def sort_key(ex):\n",
    "        return len(ex.text)\n",
    "    def __init__(self, text_field, label_field, path=None, examples=None, **kwargs):\n",
    "        fields = [('text', text_field), ('label', label_field)]\n",
    "        if examples is None:\n",
    "            path = self.dirname if path is None else path\n",
    "            examples = []\n",
    "            for i,line in enumerate(open(path,'r',encoding='utf-8')):\n",
    "                if i==0:\n",
    "                    continue\n",
    "                line = line.strip().split(',')\n",
    "                txt = line[5].split(' ')\n",
    "                #txt= [ d.split('/')[0] for d in line[1].split(' ') ]\n",
    "                examples += [ data.Example.fromlist( [txt, line[2]],fields ) ]\n",
    "        super(mydataset, self).__init__(examples, fields, **kwargs)"
   ]
  },
  {
   "cell_type": "code",
   "execution_count": 4,
   "metadata": {},
   "outputs": [
    {
     "name": "stdout",
     "output_type": "stream",
     "text": [
      "795\n"
     ]
    }
   ],
   "source": [
    "text_field = data.Field(fix_length=20)\n",
    "#text_field = data.Field()\n",
    "label_field = data.Field(sequential=False, batch_first = True, unk_token = None)\n",
    "\n",
    "train_data = mydataset(text_field,label_field,path='data_sentiment_train.csv')\n",
    "\n",
    "test_data = mydataset(text_field,label_field,path='data_sentiment_test.csv')\n",
    "\n",
    "text_field.build_vocab(train_data)\n",
    "label_field.build_vocab(train_data)\n",
    "\n",
    "train_iter, test_iter = data.Iterator.splits(\n",
    "                            (train_data, test_data),\n",
    "                            batch_sizes=(100, 1), repeat=False)#, device = -1)\n",
    "print(len(text_field.vocab))"
   ]
  },
  {
   "cell_type": "code",
   "execution_count": 5,
   "metadata": {},
   "outputs": [
    {
     "name": "stdout",
     "output_type": "stream",
     "text": [
      "RNN_Text(\n",
      "  (embed): Embedding(795, 100)\n",
      "  (rnn): LSTM(100, 256, bidirectional=True)\n",
      "  (out): Linear(in_features=512, out_features=2, bias=True)\n",
      ")\n"
     ]
    }
   ],
   "source": [
    "rnn = RNN_Text(len(text_field.vocab),2)\n",
    "optimizer = torch.optim.Adam(rnn.parameters())\n",
    "print(rnn.train())"
   ]
  },
  {
   "cell_type": "code",
   "execution_count": 6,
   "metadata": {},
   "outputs": [
    {
     "name": "stdout",
     "output_type": "stream",
     "text": [
      "0 epoch\n",
      "tensor(19.9264)\n",
      "1 epoch\n",
      "tensor(8.4664)\n",
      "2 epoch\n",
      "tensor(0.2618)\n",
      "3 epoch\n",
      "tensor(0.0379)\n",
      "4 epoch\n",
      "tensor(0.3437)\n",
      "5 epoch\n",
      "tensor(0.0282)\n",
      "6 epoch\n",
      "tensor(0.0140)\n",
      "7 epoch\n",
      "tensor(0.0093)\n",
      "8 epoch\n",
      "tensor(0.0067)\n",
      "9 epoch\n",
      "tensor(0.0052)\n",
      "10 epoch\n",
      "tensor(0.0042)\n",
      "11 epoch\n",
      "tensor(0.0034)\n",
      "12 epoch\n",
      "tensor(0.0030)\n",
      "13 epoch\n",
      "tensor(0.0194)\n",
      "14 epoch\n",
      "tensor(0.0026)\n",
      "CPU times: user 15min 49s, sys: 10.8 s, total: 16min\n",
      "Wall time: 3min 50s\n"
     ]
    },
    {
     "name": "stderr",
     "output_type": "stream",
     "text": [
      "/home/harny/Github/ai-tech-kepco/venv/lib/python3.7/site-packages/torch/serialization.py:256: UserWarning: Couldn't retrieve source code for container of type RNN_Text. It won't be checked for correctness upon loading.\n",
      "  \"type \" + obj.__name__ + \". It won't be checked \"\n"
     ]
    }
   ],
   "source": [
    "%%time\n",
    "for epoch in range(15):\n",
    "    z = 0\n",
    "    totalloss = 0\n",
    "    for batch in train_iter:\n",
    "        optimizer.zero_grad()\n",
    "\n",
    "        txt = batch.text\n",
    "        label = batch.label\n",
    "        # print (txt.size())\n",
    "        rnn.inithidden(txt.size(1))\n",
    "\n",
    "        pred = rnn(txt)\n",
    "        # print(pred.size(), label.size())\n",
    "        # print(label)\n",
    "        loss = F.cross_entropy(pred, label)\n",
    "        totalloss += loss.data\n",
    "\n",
    "        loss.backward()\n",
    "        optimizer.step()\n",
    "        # print(data,label)\n",
    "\n",
    "    print(epoch, 'epoch')\n",
    "    print(totalloss)\n",
    "\n",
    "torch.save(rnn, 'model/rnn_model.pt')"
   ]
  },
  {
   "cell_type": "code",
   "execution_count": 7,
   "metadata": {},
   "outputs": [
    {
     "name": "stdout",
     "output_type": "stream",
     "text": [
      "correct :  140\n",
      "incorrect :  0\n",
      "\n",
      "CPU times: user 2.42 s, sys: 0 ns, total: 2.42 s\n",
      "Wall time: 609 ms\n"
     ]
    }
   ],
   "source": [
    "%%time\n",
    "correct = 0\n",
    "incorrect = 0\n",
    "rnn.eval()\n",
    "for batch in test_iter:\n",
    "    txt = batch.text\n",
    "    label = batch.label\n",
    "\n",
    "    rnn.inithidden(txt.size(1))\n",
    "\n",
    "    pred = rnn(txt)\n",
    "    _, ans = torch.max(pred, dim=1)\n",
    "\n",
    "    if ans.data[0] == label.data[0]:\n",
    "        correct += 1\n",
    "    else:\n",
    "        incorrect += 1\n",
    "\n",
    "print('correct : ', correct)\n",
    "print('incorrect : ', incorrect)\n",
    "print()"
   ]
  },
  {
   "cell_type": "code",
   "execution_count": null,
   "metadata": {},
   "outputs": [],
   "source": []
  }
 ],
 "metadata": {
  "kernelspec": {
   "display_name": "Python 3",
   "language": "python",
   "name": "python3"
  },
  "language_info": {
   "codemirror_mode": {
    "name": "ipython",
    "version": 3
   },
   "file_extension": ".py",
   "mimetype": "text/x-python",
   "name": "python",
   "nbconvert_exporter": "python",
   "pygments_lexer": "ipython3",
   "version": "3.7.3"
  }
 },
 "nbformat": 4,
 "nbformat_minor": 2
}
